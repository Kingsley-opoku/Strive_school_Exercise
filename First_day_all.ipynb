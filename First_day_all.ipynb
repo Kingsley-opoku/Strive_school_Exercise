{
 "cells": [
  {
   "cell_type": "markdown",
   "metadata": {},
   "source": [
    "#### Exercise 1.1: The cover price of a book is 24.95 EUR, but bookstores get a 40 percent discount. Shipping costs 3 EUR for the first copy and 75 cents for each additional copy. Calculate the total wholesale costs for 60 copies."
   ]
  },
  {
   "cell_type": "code",
   "execution_count": 1,
   "metadata": {},
   "outputs": [
    {
     "name": "stdout",
     "output_type": "stream",
     "text": [
      "646.0500000000001\n"
     ]
    }
   ],
   "source": [
    "#Your Code Here\n",
    "# Name the parameters and Variables in the Question\n",
    "Cover_Book_Price= 24.95\n",
    "Discount_Percent= 0.4\n",
    "# Shipping Cost \n",
    "Shipping_Cost_first_copy= 3.0\n",
    "Shipping_cost_Additional_copy= 0.75\n",
    "# Calculating the Wholesale price and cost for the first copy\n",
    "Wholesale_Book_Price= Cover_Book_Price*Discount_Percent\n",
    "Wholesale_Cost_first_copy=Wholesale_Book_Price+Shipping_Cost_first_copy\n",
    "\n",
    "# Calculating the Wholesale price for 59 books\n",
    "Wholesale_price_Additional_copy=Cover_Book_Price*Discount_Percent\n",
    "Wholesale_Cost_Additional_copy=(Wholesale_Book_Price+Shipping_cost_Additional_copy)*59\n",
    "\n",
    "# Calculation the Total Wholesale Cost\n",
    "Total_Wholesale_Cost= Wholesale_Cost_Additional_copy+Wholesale_Cost_first_copy\n",
    "print(Total_Wholesale_Cost)"
   ]
  },
  {
   "cell_type": "markdown",
   "metadata": {},
   "source": [
    "#### Exercise 1.2: When something is wrong with your code, Python will raise errors. Often these will be \"syntax errors\" that signal that something is wrong with the form of your code (e.g., the code in the previous exercise raised a SyntaxError). There are also \"runtime errors\", which signal that your code was in itself formally correct, but that something went wrong during the code's execution. A good example is the ZeroDivisionError, which indicates that you tried to divide a number by zero (which, as you may know, is not allowed). Try to make Python raise such a ZeroDivisionError."
   ]
  },
  {
   "cell_type": "code",
   "execution_count": 2,
   "metadata": {},
   "outputs": [
    {
     "ename": "ZeroDivisionError",
     "evalue": "division by zero",
     "output_type": "error",
     "traceback": [
      "\u001b[1;31m---------------------------------------------------------------------------\u001b[0m",
      "\u001b[1;31mZeroDivisionError\u001b[0m                         Traceback (most recent call last)",
      "\u001b[1;32m~\\AppData\\Local\\Temp/ipykernel_6688/72120342.py\u001b[0m in \u001b[0;36m<module>\u001b[1;34m\u001b[0m\n\u001b[0;32m      1\u001b[0m \u001b[0ma\u001b[0m\u001b[1;33m=\u001b[0m\u001b[1;36m30\u001b[0m\u001b[1;33m\u001b[0m\u001b[1;33m\u001b[0m\u001b[0m\n\u001b[1;32m----> 2\u001b[1;33m \u001b[0mprint\u001b[0m\u001b[1;33m(\u001b[0m\u001b[0ma\u001b[0m\u001b[1;33m/\u001b[0m\u001b[1;36m0\u001b[0m\u001b[1;33m)\u001b[0m\u001b[1;33m\u001b[0m\u001b[1;33m\u001b[0m\u001b[0m\n\u001b[0m",
      "\u001b[1;31mZeroDivisionError\u001b[0m: division by zero"
     ]
    }
   ],
   "source": [
    "a=30\n",
    "print(a/0)"
   ]
  },
  {
   "cell_type": "markdown",
   "metadata": {},
   "source": [
    "#### Exercise 5.1: Create a countdown function that starts at a certain count, and counts down to zero. Instead of zero, print \"Blast off!\". Use a for loop."
   ]
  },
  {
   "cell_type": "code",
   "execution_count": 3,
   "metadata": {},
   "outputs": [
    {
     "name": "stdout",
     "output_type": "stream",
     "text": [
      "20\n",
      "19\n",
      "18\n",
      "17\n",
      "16\n",
      "15\n",
      "14\n",
      "13\n",
      "12\n",
      "11\n",
      "10\n",
      "9\n",
      "8\n",
      "7\n",
      "6\n",
      "5\n",
      "4\n",
      "3\n",
      "2\n",
      "1\n",
      "Blast off!\n"
     ]
    }
   ],
   "source": [
    "def countdown(Num):\n",
    "    \"\"\" \n",
    "    10\n",
    "    9\n",
    "    8\n",
    "    7\n",
    "    6\n",
    "    5\n",
    "    4\n",
    "    3\n",
    "    2\n",
    "    1\n",
    "    Blast off!\n",
    "    \"\"\"\n",
    "    count= Num\n",
    "    for x in range(Num+1):\n",
    "        if x!=0:\n",
    "            count-=1\n",
    "        if count==0:\n",
    "            print(\"Blast off!\")\n",
    "            break\n",
    "        print(count)\n",
    "    return None\n",
    "countdown(20)"
   ]
  },
  {
   "cell_type": "markdown",
   "metadata": {},
   "source": [
    "#### Exercise 5.2: Write and test three functions that return the largest, the smallest, and the number of dividables by 3 in a given collection of numbers."
   ]
  },
  {
   "cell_type": "code",
   "execution_count": 5,
   "metadata": {},
   "outputs": [],
   "source": [
    "a = [2, 4, 6, 12, 15, 99, 100]"
   ]
  },
  {
   "cell_type": "code",
   "execution_count": 6,
   "metadata": {},
   "outputs": [
    {
     "name": "stdout",
     "output_type": "stream",
     "text": [
      "100\n"
     ]
    }
   ],
   "source": [
    "def Largest_number(Num):\n",
    "    \n",
    "    \"\"\"\n",
    "    a = [2, 4, 6, 12, 15, 99, 100]\n",
    "    100\n",
    "    \"\"\"\n",
    "    largest_number = Num[0]\n",
    "    for number in Num:\n",
    "        if number > largest_number:\n",
    "            largest_number = number\n",
    "    return largest_number\n",
    "\n",
    "\n",
    "print(Largest_number(a))\n",
    "\n"
   ]
  },
  {
   "cell_type": "code",
   "execution_count": 7,
   "metadata": {},
   "outputs": [
    {
     "name": "stdout",
     "output_type": "stream",
     "text": [
      "2\n"
     ]
    }
   ],
   "source": [
    "def Smallest_number(Num):\n",
    "    \"\"\"\n",
    "    a = [2, 4, 6, 12, 15, 99, 100]\n",
    "    2\n",
    "    \"\"\"\n",
    "    smallest_number = Num[0]\n",
    "    for number in Num:\n",
    "        if number < smallest_number:\n",
    "            smallest_number = number\n",
    "    return smallest_number\n",
    "\n",
    "\n",
    "print(Smallest_number(a))"
   ]
  },
  {
   "cell_type": "code",
   "execution_count": 13,
   "metadata": {},
   "outputs": [
    {
     "name": "stdout",
     "output_type": "stream",
     "text": [
      "6\n",
      "12\n",
      "15\n",
      "99\n",
      "None\n"
     ]
    }
   ],
   "source": [
    "def divisible_by_3(Num):\n",
    "    \"\"\"\n",
    "    a = [2, 4, 6, 12, 15, 99, 100]\n",
    "    6\n",
    "    12\n",
    "    15\n",
    "    99\n",
    "    \"\"\"\n",
    "    for numbers in Num:\n",
    "        if numbers%3==0:\n",
    "\n",
    "            print(numbers)\n",
    "        \n",
    "\n",
    "print(divisible_by_3(a) ) "
   ]
  },
  {
   "cell_type": "markdown",
   "metadata": {},
   "source": [
    "### Exercise 5.4 (🌶️): \"99 bottles of beer\" is a traditional song in the United States and Canada. It is popular to sing on long trips, as it has a very repetitive format which is easy to memorize, and can take a long time to sing. The song's simple lyrics are as follows: \"99 bottles of beer on the wall, 99 bottles of beer. Take one down, pass it around, 98 bottles of beer on the wall.\" The same verse is repeated, each time with one fewer bottle. The song is completed when the singer or singers reach zero. Write a function that generates and prints all the verses of the song (though you might start a bit lower, for instance with 10 bottles). Make sure that your loop is not endless, and that you use the proper inflection for the word \"bottle\""
   ]
  },
  {
   "cell_type": "code",
   "execution_count": 14,
   "metadata": {},
   "outputs": [
    {
     "name": "stdout",
     "output_type": "stream",
     "text": [
      "10 bottles of beer on the wall, 10 bottles of beer. Take one down, pass it around, 9 bottles of beer on the wall,\n",
      "9 bottles of beer on the wall, 9 bottles of beer. Take one down, pass it around, 8 bottles of beer on the wall,\n",
      "8 bottles of beer on the wall, 8 bottles of beer. Take one down, pass it around, 7 bottles of beer on the wall,\n",
      "7 bottles of beer on the wall, 7 bottles of beer. Take one down, pass it around, 6 bottles of beer on the wall,\n",
      "6 bottles of beer on the wall, 6 bottles of beer. Take one down, pass it around, 5 bottles of beer on the wall,\n",
      "5 bottles of beer on the wall, 5 bottles of beer. Take one down, pass it around, 4 bottles of beer on the wall,\n",
      "4 bottles of beer on the wall, 4 bottles of beer. Take one down, pass it around, 3 bottles of beer on the wall,\n",
      "3 bottles of beer on the wall, 3 bottles of beer. Take one down, pass it around, 2 bottles of beer on the wall,\n",
      "2 bottles of beer on the wall, 2 bottles of beer. Take one down, pass it around, 1 bottles of beer on the wall,\n",
      "1 bottles of beer on the wall, 1 bottles of beer. Take one down, pass it around, 0 bottles of beer on the wall,\n"
     ]
    }
   ],
   "source": [
    "def beersong(Numbers_bottles):\n",
    "    \"\"\"\n",
    "    5 bottles of beer on the wall, 5 bottles of beer. Take one down, pass it around, 4 bottles of beer in the wall\n",
    "    4 bottles of beer on the wall, 4 bottles of beer. Take one down, pass it around, 3 bottles of beer in the wall\n",
    "    3 bottles of beer on the wall, 3 bottles of beer. Take one down, pass it around, 2 bottles of beer in the wall\n",
    "    2 bottles of beer on the wall, 2 bottles of beer. Take one down, pass it around, 1 bottle of beer in the wall\n",
    "    1 bottle of beer on the wall, 1 bottle of beer. Take one down, pass it around, 0 bottles of beer in the wall\n",
    "    \"\"\"\n",
    "    number=Numbers_bottles\n",
    "    Song1=\"bottles of beer on the wall,\"\n",
    "    Song2= \"bottles of beer. Take one down, pass it around,\"\n",
    "    while True:\n",
    "        if  number ==0:\n",
    "            break\n",
    "        print(str(number)+ \" \" + Song1, str(number)+ \" \" + Song2, str(number-1)+ \" \" + Song1)\n",
    "        number-=1\n",
    "    return\n",
    "\n",
    "beersong(10)"
   ]
  },
  {
   "cell_type": "markdown",
   "metadata": {},
   "source": [
    "##### Exercise 5.5 (🌶️): The Fibonacci sequence is a sequence of numbers that starts with 1, followed by 1 again. Every next number is the sum of the two previous numbers. I.e., the sequence starts with 1, 1, 2, 3, 5, 8, 13, 21,... Write a function that calculates and prints the Fibonacci sequence until the numbers get higher than a maximum."
   ]
  },
  {
   "cell_type": "code",
   "execution_count": 17,
   "metadata": {},
   "outputs": [
    {
     "name": "stdout",
     "output_type": "stream",
     "text": [
      "Fibonacci sequence:\n",
      "0\n",
      "1\n",
      "1\n",
      "2\n",
      "3\n",
      "5\n",
      "8\n",
      "13\n",
      "21\n",
      "34\n"
     ]
    }
   ],
   "source": [
    "def fibonacci(nterms):\n",
    "    \"\"\"\n",
    "    Fibonacci sequence up to 22 :\n",
    "    0 , 1 , 1 , 2 , 3 , 5 , 8 , 13 , 21\n",
    "    \"\"\"\n",
    "     # first two terms\n",
    "    n1, n2 = 0, 1\n",
    "    count = 0\n",
    "\n",
    "    # check if the number of terms is valid\n",
    "    if nterms <= 0:\n",
    "        print(\"It is not valid\")\n",
    "# if there is only one term, return n1\n",
    "    elif nterms == 1:\n",
    "        print(n1)\n",
    "# generate fibonacci sequence\n",
    "    else:\n",
    "        print(\"Fibonacci sequence:\")\n",
    "    while count < nterms:\n",
    "        print(n1)\n",
    "        nth = n1 + n2\n",
    "       # update values\n",
    "        n1 = n2\n",
    "        n2 = nth\n",
    "        count += 1\n",
    "        \n",
    "    return\n",
    "\n",
    "fibonacci(10)"
   ]
  },
  {
   "cell_type": "markdown",
   "metadata": {},
   "source": [
    "##### Exercise 5.8 (🌶️): A, B, C, and D are all different digits. The number DCBA is equal to 4 times the number ABCD. What are the digits? Note: to make ABCD and DCBA conventional numbers, neither A nor D can be zero. Use a quadruple-nested loop."
   ]
  },
  {
   "cell_type": "code",
   "execution_count": 18,
   "metadata": {},
   "outputs": [
    {
     "name": "stdout",
     "output_type": "stream",
     "text": [
      "A = 2\n",
      "B = 1\n",
      "C = 7\n",
      "D = 8\n"
     ]
    }
   ],
   "source": [
    "\n",
    "# Solve 4*ABCD == DCBA\n",
    "\n",
    "digits = [0, 1, 2, 3, 4, 5, 6, 7, 8, 9]\n",
    "\n",
    "def nested_nest(digits):\n",
    "    \n",
    "    \"\"\"\n",
    "    A = 2\n",
    "    B = 1\n",
    "    C = 7\n",
    "    D = 8\n",
    "    \"\"\"\n",
    "    for a in digits[1:]:\n",
    "        for b in digits:\n",
    "            for c in digits:\n",
    "                for d in digits[1:]:\n",
    "                    if 4*(a*1000+b*100+c*10+d*1) == (d*1000+c*100+b*10+a*1):\n",
    "                        print('A =', a)\n",
    "                        print('B =', b)\n",
    "                        print('C =', c)\n",
    "                        print('D =', d)\n",
    "\n",
    "nested_nest(digits)"
   ]
  },
  {
   "cell_type": "code",
   "execution_count": 22,
   "metadata": {},
   "outputs": [
    {
     "name": "stdout",
     "output_type": "stream",
     "text": [
      "2\n",
      "3\n",
      "5\n",
      "7\n"
     ]
    }
   ],
   "source": [
    "def prime_number(num):\n",
    " \n",
    "    for x in range(num):\n",
    "        if x>1:\n",
    "            for i in range(2,x):\n",
    "                if x%i == 0:\n",
    "                    break\n",
    "            else:\n",
    "                print(x)\n",
    "        \n",
    "prime_number(10) "
   ]
  },
  {
   "cell_type": "code",
   "execution_count": null,
   "metadata": {},
   "outputs": [],
   "source": []
  }
 ],
 "metadata": {
  "interpreter": {
   "hash": "fb15f73705734d02038e575d13b67fd909c696727d4489b806d46e5f3d9b63cf"
  },
  "kernelspec": {
   "display_name": "Python 3.9.7 ('base')",
   "language": "python",
   "name": "python3"
  },
  "language_info": {
   "codemirror_mode": {
    "name": "ipython",
    "version": 3
   },
   "file_extension": ".py",
   "mimetype": "text/x-python",
   "name": "python",
   "nbconvert_exporter": "python",
   "pygments_lexer": "ipython3",
   "version": "3.9.7"
  },
  "orig_nbformat": 4
 },
 "nbformat": 4,
 "nbformat_minor": 2
}
