{
 "cells": [
  {
   "cell_type": "code",
   "execution_count": 2,
   "metadata": {},
   "outputs": [
    {
     "data": {
      "text/plain": [
       "[1, 2, 'Strive', 'School', 'Strive School']"
      ]
     },
     "execution_count": 2,
     "metadata": {},
     "output_type": "execute_result"
    }
   ],
   "source": [
    "def strive_school(list_of_numbers):\n",
    "    numbers=[]\n",
    "    for number in list_of_numbers:\n",
    "        if number %3==0 and number%5==0:\n",
    "            number='Strive School'\n",
    "            numbers.append(number)\n",
    "        elif number %3==0:\n",
    "           number= 'Strive'\n",
    "           numbers.append(number)\n",
    "        elif number %5==0:\n",
    "            number='School'\n",
    "            numbers.append(number)\n",
    "        else:\n",
    "            number=number\n",
    "            numbers.append(number)\n",
    "    #print(list_of_numbers)\n",
    "    return numbers\n",
    "strive_school([1,2,3,5,15])"
   ]
  }
 ],
 "metadata": {
  "interpreter": {
   "hash": "fb15f73705734d02038e575d13b67fd909c696727d4489b806d46e5f3d9b63cf"
  },
  "kernelspec": {
   "display_name": "Python 3.9.7 ('base')",
   "language": "python",
   "name": "python3"
  },
  "language_info": {
   "codemirror_mode": {
    "name": "ipython",
    "version": 3
   },
   "file_extension": ".py",
   "mimetype": "text/x-python",
   "name": "python",
   "nbconvert_exporter": "python",
   "pygments_lexer": "ipython3",
   "version": "3.9.7"
  },
  "orig_nbformat": 4
 },
 "nbformat": 4,
 "nbformat_minor": 2
}
