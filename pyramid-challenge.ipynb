{
 "cells": [
  {
   "cell_type": "code",
   "execution_count": 1,
   "metadata": {},
   "outputs": [
    {
     "name": "stdout",
     "output_type": "stream",
     "text": [
      "\n",
      "#\n",
      "##\n",
      "###\n",
      "####\n",
      "#####\n",
      "######\n",
      "#######\n",
      "########\n",
      "#########\n",
      "##########\n",
      "###########\n",
      "############\n",
      "#############\n",
      "##############\n",
      "###############\n",
      "################\n",
      "#################\n",
      "##################\n",
      "###################\n",
      "####################\n"
     ]
    }
   ],
   "source": [
    "def print_pyramid(num):\n",
    "    ''' print_pyramid(5) to return an output of \n",
    "#\n",
    "##\n",
    "###\n",
    "####\n",
    "#####\n",
    "\n",
    "\n",
    "    '''\n",
    "    string='#'\n",
    "    for number in range(num+1):\n",
    "        print(string*number)\n",
    "\n",
    "print_pyramid(20)\n"
   ]
  }
 ],
 "metadata": {
  "interpreter": {
   "hash": "59da657ce4f90debcef681a4f01c8cd526450f23b64dabfb788838b6007476f7"
  },
  "kernelspec": {
   "display_name": "Python 3.10.2 64-bit",
   "language": "python",
   "name": "python3"
  },
  "language_info": {
   "codemirror_mode": {
    "name": "ipython",
    "version": 3
   },
   "file_extension": ".py",
   "mimetype": "text/x-python",
   "name": "python",
   "nbconvert_exporter": "python",
   "pygments_lexer": "ipython3",
   "version": "3.10.2"
  },
  "orig_nbformat": 4
 },
 "nbformat": 4,
 "nbformat_minor": 2
}
