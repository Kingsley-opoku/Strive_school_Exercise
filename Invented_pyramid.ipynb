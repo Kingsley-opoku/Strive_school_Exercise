{
 "cells": [
  {
   "cell_type": "code",
   "execution_count": 1,
   "metadata": {},
   "outputs": [
    {
     "name": "stdout",
     "output_type": "stream",
     "text": [
      "                   #\n",
      "                 ##\n",
      "               ###\n",
      "             ####\n",
      "           #####\n",
      "         ######\n",
      "       #######\n",
      "     ########\n",
      "   #########\n",
      " ##########\n"
     ]
    }
   ],
   "source": [
    "def print_invented_pyramid(num):\n",
    "    '''print_invented_pyramid(5) to return an output of \n",
    "    \n",
    "    #\n",
    "   ##\n",
    "  ###\n",
    " ####\n",
    "#####\n",
    "    '''\n",
    "    for i in range(1,num + 1) :\n",
    "        print('  '*(num - i), '#'*i)\n",
    "print_invented_pyramid(10)"
   ]
  }
 ],
 "metadata": {
  "interpreter": {
   "hash": "fb15f73705734d02038e575d13b67fd909c696727d4489b806d46e5f3d9b63cf"
  },
  "kernelspec": {
   "display_name": "Python 3.9.7 ('base')",
   "language": "python",
   "name": "python3"
  },
  "language_info": {
   "codemirror_mode": {
    "name": "ipython",
    "version": 3
   },
   "file_extension": ".py",
   "mimetype": "text/x-python",
   "name": "python",
   "nbconvert_exporter": "python",
   "pygments_lexer": "ipython3",
   "version": "3.9.7"
  },
  "orig_nbformat": 4
 },
 "nbformat": 4,
 "nbformat_minor": 2
}
