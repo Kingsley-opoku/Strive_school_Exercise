{
 "cells": [
  {
   "cell_type": "markdown",
   "metadata": {},
   "source": [
    "Dataset complete info: 'https://archive.ics.uci.edu/ml/machine-learning-databases/car/car.data'\n",
    "\n",
    "#### Attribute information\n",
    "\n",
    "1. buying  $\\quad$     v-high, high, med, low\n",
    "2. maint    $\\quad$    v-high, high, med, low\n",
    "3. doors      $\\quad$  2, 3, 4, 5-more\n",
    "4. persons    $\\quad$  2, 4, more\n",
    "5. lug_boot    $\\quad$ small, med, big\n",
    "6. safety      $\\quad$ low, med, high"
   ]
  },
  {
   "cell_type": "code",
   "execution_count": 1,
   "metadata": {},
   "outputs": [],
   "source": [
    "# importing library\n",
    "import pandas as pd \n",
    "import numpy as np\n",
    "from sklearn.model_selection import train_test_split, cross_validate\n",
    "import matplotlib.pyplot as plt\n",
    "from sklearn.tree import DecisionTreeClassifier, plot_tree\n",
    "from sklearn.preprocessing import StandardScaler\n",
    "from sklearn.metrics import plot_confusion_matrix\n",
    "from sklearn.ensemble import RandomForestClassifier\n",
    "from sklearn.decomposition import PCA\n"
   ]
  },
  {
   "cell_type": "markdown",
   "metadata": {},
   "source": [
    "### Putting the data into dataframe"
   ]
  },
  {
   "cell_type": "code",
   "execution_count": 2,
   "metadata": {},
   "outputs": [
    {
     "data": {
      "text/html": [
       "<div>\n",
       "<style scoped>\n",
       "    .dataframe tbody tr th:only-of-type {\n",
       "        vertical-align: middle;\n",
       "    }\n",
       "\n",
       "    .dataframe tbody tr th {\n",
       "        vertical-align: top;\n",
       "    }\n",
       "\n",
       "    .dataframe thead th {\n",
       "        text-align: right;\n",
       "    }\n",
       "</style>\n",
       "<table border=\"1\" class=\"dataframe\">\n",
       "  <thead>\n",
       "    <tr style=\"text-align: right;\">\n",
       "      <th></th>\n",
       "      <th>buying</th>\n",
       "      <th>maint</th>\n",
       "      <th>doors</th>\n",
       "      <th>persons</th>\n",
       "      <th>lug_boot</th>\n",
       "      <th>safety</th>\n",
       "      <th>acceptability</th>\n",
       "    </tr>\n",
       "  </thead>\n",
       "  <tbody>\n",
       "    <tr>\n",
       "      <th>0</th>\n",
       "      <td>vhigh</td>\n",
       "      <td>vhigh</td>\n",
       "      <td>2</td>\n",
       "      <td>2</td>\n",
       "      <td>small</td>\n",
       "      <td>low</td>\n",
       "      <td>unacc</td>\n",
       "    </tr>\n",
       "    <tr>\n",
       "      <th>1</th>\n",
       "      <td>vhigh</td>\n",
       "      <td>vhigh</td>\n",
       "      <td>2</td>\n",
       "      <td>2</td>\n",
       "      <td>small</td>\n",
       "      <td>med</td>\n",
       "      <td>unacc</td>\n",
       "    </tr>\n",
       "    <tr>\n",
       "      <th>2</th>\n",
       "      <td>vhigh</td>\n",
       "      <td>vhigh</td>\n",
       "      <td>2</td>\n",
       "      <td>2</td>\n",
       "      <td>small</td>\n",
       "      <td>high</td>\n",
       "      <td>unacc</td>\n",
       "    </tr>\n",
       "    <tr>\n",
       "      <th>3</th>\n",
       "      <td>vhigh</td>\n",
       "      <td>vhigh</td>\n",
       "      <td>2</td>\n",
       "      <td>2</td>\n",
       "      <td>med</td>\n",
       "      <td>low</td>\n",
       "      <td>unacc</td>\n",
       "    </tr>\n",
       "    <tr>\n",
       "      <th>4</th>\n",
       "      <td>vhigh</td>\n",
       "      <td>vhigh</td>\n",
       "      <td>2</td>\n",
       "      <td>2</td>\n",
       "      <td>med</td>\n",
       "      <td>med</td>\n",
       "      <td>unacc</td>\n",
       "    </tr>\n",
       "    <tr>\n",
       "      <th>...</th>\n",
       "      <td>...</td>\n",
       "      <td>...</td>\n",
       "      <td>...</td>\n",
       "      <td>...</td>\n",
       "      <td>...</td>\n",
       "      <td>...</td>\n",
       "      <td>...</td>\n",
       "    </tr>\n",
       "    <tr>\n",
       "      <th>1723</th>\n",
       "      <td>low</td>\n",
       "      <td>low</td>\n",
       "      <td>5more</td>\n",
       "      <td>more</td>\n",
       "      <td>med</td>\n",
       "      <td>med</td>\n",
       "      <td>good</td>\n",
       "    </tr>\n",
       "    <tr>\n",
       "      <th>1724</th>\n",
       "      <td>low</td>\n",
       "      <td>low</td>\n",
       "      <td>5more</td>\n",
       "      <td>more</td>\n",
       "      <td>med</td>\n",
       "      <td>high</td>\n",
       "      <td>vgood</td>\n",
       "    </tr>\n",
       "    <tr>\n",
       "      <th>1725</th>\n",
       "      <td>low</td>\n",
       "      <td>low</td>\n",
       "      <td>5more</td>\n",
       "      <td>more</td>\n",
       "      <td>big</td>\n",
       "      <td>low</td>\n",
       "      <td>unacc</td>\n",
       "    </tr>\n",
       "    <tr>\n",
       "      <th>1726</th>\n",
       "      <td>low</td>\n",
       "      <td>low</td>\n",
       "      <td>5more</td>\n",
       "      <td>more</td>\n",
       "      <td>big</td>\n",
       "      <td>med</td>\n",
       "      <td>good</td>\n",
       "    </tr>\n",
       "    <tr>\n",
       "      <th>1727</th>\n",
       "      <td>low</td>\n",
       "      <td>low</td>\n",
       "      <td>5more</td>\n",
       "      <td>more</td>\n",
       "      <td>big</td>\n",
       "      <td>high</td>\n",
       "      <td>vgood</td>\n",
       "    </tr>\n",
       "  </tbody>\n",
       "</table>\n",
       "<p>1728 rows × 7 columns</p>\n",
       "</div>"
      ],
      "text/plain": [
       "     buying  maint  doors persons lug_boot safety acceptability\n",
       "0     vhigh  vhigh      2       2    small    low         unacc\n",
       "1     vhigh  vhigh      2       2    small    med         unacc\n",
       "2     vhigh  vhigh      2       2    small   high         unacc\n",
       "3     vhigh  vhigh      2       2      med    low         unacc\n",
       "4     vhigh  vhigh      2       2      med    med         unacc\n",
       "...     ...    ...    ...     ...      ...    ...           ...\n",
       "1723    low    low  5more    more      med    med          good\n",
       "1724    low    low  5more    more      med   high         vgood\n",
       "1725    low    low  5more    more      big    low         unacc\n",
       "1726    low    low  5more    more      big    med          good\n",
       "1727    low    low  5more    more      big   high         vgood\n",
       "\n",
       "[1728 rows x 7 columns]"
      ]
     },
     "execution_count": 2,
     "metadata": {},
     "output_type": "execute_result"
    }
   ],
   "source": [
    "# Loading the data\n",
    "data='https://archive.ics.uci.edu/ml/machine-learning-databases/car/car.data'\n",
    "\n",
    "columns=['buying', 'maint', 'doors', 'persons', 'lug_boot', 'safety', 'acceptability']\n",
    "\n",
    "data=pd.read_csv(data, names=columns)\n",
    "\n",
    "data"
   ]
  },
  {
   "cell_type": "markdown",
   "metadata": {},
   "source": [
    "#### Data cleaning\n",
    "\n",
    "1. buying $\\quad$ low:0, med :1, high:2, vhigh:3\n",
    "\n",
    "2. maint $\\quad$ low':0, 'med':1,'high':2, 'vhigh':3\n",
    "\n",
    "3. 'doors' $\\quad$ '2':2,'3':3,'4':4,'5more':5\n",
    "\n",
    "4. 'lug_boot' $\\quad$ 'small':0,'med':1,'big':2\n",
    "\n",
    "5. 'persons' $\\quad$ '2':2, '4':4,'more':5\n",
    "\n",
    "6. 'safety' $\\quad$ 'low':0, 'med':1,'high':2\n",
    "\n",
    "7. 'target' $\\quad$ 'unacc': 0,'acc':1, 'good': 2, 'vgood' :3\n",
    "\n",
    "\n"
   ]
  },
  {
   "cell_type": "code",
   "execution_count": 3,
   "metadata": {},
   "outputs": [],
   "source": [
    "data['buying'] = data['buying'].map({'low':0, 'med':1,'high':2, 'vhigh':3})\n",
    "data['maint'] = data['maint'].map({'low':0, 'med':1,'high':2, 'vhigh':3})\n",
    "data['doors']=data['doors'].map({'2':2,'3':3,'4':4,'5more':5})\n",
    "data['lug_boot']=data['lug_boot'].map({'small':0,'med':1,'big':2})\n",
    "data['persons'] = data['persons'].map({'2':2, '4':4,'more':5})\n",
    "data['safety'] = data['safety'].map({'low':0, 'med':1,'high':2})\n",
    "data['target']=data['acceptability'].map({'unacc': 0,'acc':1, 'good': 2, 'vgood' :3})\n"
   ]
  },
  {
   "cell_type": "code",
   "execution_count": 4,
   "metadata": {},
   "outputs": [],
   "source": [
    "# selecting the required data \n",
    "X, y = data.iloc[:, :-2], data.iloc[:, -1]"
   ]
  },
  {
   "cell_type": "markdown",
   "metadata": {},
   "source": [
    "#### Slipting the data"
   ]
  },
  {
   "cell_type": "code",
   "execution_count": 5,
   "metadata": {},
   "outputs": [],
   "source": [
    "X_train, X_test, y_train, y_test = train_test_split(X, y, random_state=0, test_size=0.2)"
   ]
  },
  {
   "cell_type": "markdown",
   "metadata": {},
   "source": [
    "### Normalising the data"
   ]
  },
  {
   "cell_type": "code",
   "execution_count": 6,
   "metadata": {},
   "outputs": [],
   "source": [
    "scaler=StandardScaler()\n",
    "X_train=scaler.fit_transform(X_train)\n",
    "X_test=scaler.transform(X_test)"
   ]
  },
  {
   "cell_type": "markdown",
   "metadata": {},
   "source": [
    "#### Classifying the data"
   ]
  },
  {
   "cell_type": "code",
   "execution_count": 6,
   "metadata": {},
   "outputs": [
    {
     "name": "stdout",
     "output_type": "stream",
     "text": [
      "Accuracy of Random Forest :0.9971\n"
     ]
    }
   ],
   "source": [
    "# Instances of Random Forest Classifier and fit with the normalised train\n",
    "clf_forest=RandomForestClassifier(n_estimators=5, max_depth=None, \n",
    "                                    min_samples_split=2, random_state=0)\n",
    "                                    \n",
    "clf_forest.fit(X_train, y_train)\n",
    "clf_forest.predict(X_test)\n",
    "score_forest=clf_forest.score(X_train, y_train)\n",
    "\n",
    "\n",
    "print('Accuracy of Random Forest :{:.4}'.format(score_forest))"
   ]
  },
  {
   "cell_type": "code",
   "execution_count": 7,
   "metadata": {},
   "outputs": [
    {
     "name": "stdout",
     "output_type": "stream",
     "text": [
      "Accuracy of Decision Tree :0.7836\n"
     ]
    }
   ],
   "source": [
    "# Instances of Decission Tree Classifier and fit with the normalised train\n",
    "clf_tree = DecisionTreeClassifier(random_state=0)\n",
    "clf_tree = clf_tree.fit(X_train, y_train)\n",
    "clf_tree.predict(X_test)\n",
    "score_tree=clf_tree.score(X_train, y_train)\n",
    "\n",
    "print('Accuracy of Decision Tree :{:.4}'.format(score_tree))"
   ]
  },
  {
   "cell_type": "markdown",
   "metadata": {},
   "source": [
    "### Applying PCA on the data"
   ]
  },
  {
   "cell_type": "code",
   "execution_count": 8,
   "metadata": {},
   "outputs": [],
   "source": [
    "# instances of PCA with n=2 components\n",
    "pca = PCA(n_components=2)\n",
    "X_pca_Train= pca.fit_transform(X_train)\n",
    "X_pca_Test=pca.transform(X_test)\n"
   ]
  },
  {
   "cell_type": "code",
   "execution_count": 9,
   "metadata": {},
   "outputs": [],
   "source": [
    "# fitting the random forest classification on  PCA features\n",
    "pca_forest=clf_forest.fit(X_pca_Train,y_train)\n",
    "clf_forest.predict(X_pca_Test)\n",
    "clf_forest.predict_proba(X_pca_Test)\n",
    "pca_score_forest=clf_forest.score(X_pca_Train, y_train)\n",
    "\n",
    "# fitting Decission Tree classifier on the PCA features\n",
    "pca_tree=clf_tree.fit(X_pca_Train, y_train)\n",
    "clf_tree.predict(X_pca_Test)\n",
    "clf_tree.predict_proba(X_pca_Test)\n",
    "pca_score_tree=clf_tree.score(X_pca_Train, y_train)\n"
   ]
  },
  {
   "cell_type": "code",
   "execution_count": 10,
   "metadata": {},
   "outputs": [
    {
     "name": "stdout",
     "output_type": "stream",
     "text": [
      "Accuracy of PCA & Random Forest  :0.7836\n",
      "Accuracy of PCA & Decision Tree :0.7836\n"
     ]
    }
   ],
   "source": [
    "print('Accuracy of PCA & Random Forest  :{:.4}'.format(score_tree))\n",
    "print('Accuracy of PCA & Decision Tree :{:.4}'.format(score_tree))"
   ]
  }
 ],
 "metadata": {
  "interpreter": {
   "hash": "109fe2d093dab06105d1d3a5b9e96744010c5994b4396e8a1da2d81e99d63170"
  },
  "kernelspec": {
   "display_name": "Python 3.9.7 ('Strive')",
   "language": "python",
   "name": "python3"
  },
  "language_info": {
   "codemirror_mode": {
    "name": "ipython",
    "version": 3
   },
   "file_extension": ".py",
   "mimetype": "text/x-python",
   "name": "python",
   "nbconvert_exporter": "python",
   "pygments_lexer": "ipython3",
   "version": "3.9.7"
  },
  "orig_nbformat": 4
 },
 "nbformat": 4,
 "nbformat_minor": 2
}
