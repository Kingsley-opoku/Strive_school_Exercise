{
 "cells": [
  {
   "cell_type": "code",
   "execution_count": 1,
   "metadata": {},
   "outputs": [],
   "source": [
    "# importing libraries\n",
    "import pandas as pd \n",
    "import numpy as np"
   ]
  },
  {
   "cell_type": "markdown",
   "metadata": {},
   "source": [
    "**23.** Given a DataFrame of numeric values, say\n",
    "```python\n",
    "df = pd.DataFrame(np.random.random(size=(5, 3))) # a 5x3 frame of float values\n",
    "```\n",
    "\n",
    "how do you subtract the row mean from each element in the row?"
   ]
  },
  {
   "cell_type": "code",
   "execution_count": 2,
   "metadata": {},
   "outputs": [
    {
     "data": {
      "text/html": [
       "<div>\n",
       "<style scoped>\n",
       "    .dataframe tbody tr th:only-of-type {\n",
       "        vertical-align: middle;\n",
       "    }\n",
       "\n",
       "    .dataframe tbody tr th {\n",
       "        vertical-align: top;\n",
       "    }\n",
       "\n",
       "    .dataframe thead th {\n",
       "        text-align: right;\n",
       "    }\n",
       "</style>\n",
       "<table border=\"1\" class=\"dataframe\">\n",
       "  <thead>\n",
       "    <tr style=\"text-align: right;\">\n",
       "      <th></th>\n",
       "      <th>0</th>\n",
       "      <th>1</th>\n",
       "      <th>2</th>\n",
       "    </tr>\n",
       "  </thead>\n",
       "  <tbody>\n",
       "    <tr>\n",
       "      <th>0</th>\n",
       "      <td>0.226605</td>\n",
       "      <td>0.468600</td>\n",
       "      <td>0.026804</td>\n",
       "    </tr>\n",
       "    <tr>\n",
       "      <th>1</th>\n",
       "      <td>0.407421</td>\n",
       "      <td>0.942134</td>\n",
       "      <td>0.423763</td>\n",
       "    </tr>\n",
       "    <tr>\n",
       "      <th>2</th>\n",
       "      <td>0.595059</td>\n",
       "      <td>0.593511</td>\n",
       "      <td>0.139909</td>\n",
       "    </tr>\n",
       "    <tr>\n",
       "      <th>3</th>\n",
       "      <td>0.924240</td>\n",
       "      <td>0.863542</td>\n",
       "      <td>0.074944</td>\n",
       "    </tr>\n",
       "    <tr>\n",
       "      <th>4</th>\n",
       "      <td>0.404017</td>\n",
       "      <td>0.657305</td>\n",
       "      <td>0.258191</td>\n",
       "    </tr>\n",
       "  </tbody>\n",
       "</table>\n",
       "</div>"
      ],
      "text/plain": [
       "          0         1         2\n",
       "0  0.226605  0.468600  0.026804\n",
       "1  0.407421  0.942134  0.423763\n",
       "2  0.595059  0.593511  0.139909\n",
       "3  0.924240  0.863542  0.074944\n",
       "4  0.404017  0.657305  0.258191"
      ]
     },
     "execution_count": 2,
     "metadata": {},
     "output_type": "execute_result"
    }
   ],
   "source": [
    "# setting up the data frame\n",
    "df = pd.DataFrame(np.random.random(size=(5, 3))) # a 5x3 frame of float values\n",
    "df"
   ]
  },
  {
   "cell_type": "code",
   "execution_count": 3,
   "metadata": {},
   "outputs": [
    {
     "data": {
      "text/html": [
       "<div>\n",
       "<style scoped>\n",
       "    .dataframe tbody tr th:only-of-type {\n",
       "        vertical-align: middle;\n",
       "    }\n",
       "\n",
       "    .dataframe tbody tr th {\n",
       "        vertical-align: top;\n",
       "    }\n",
       "\n",
       "    .dataframe thead th {\n",
       "        text-align: right;\n",
       "    }\n",
       "</style>\n",
       "<table border=\"1\" class=\"dataframe\">\n",
       "  <thead>\n",
       "    <tr style=\"text-align: right;\">\n",
       "      <th></th>\n",
       "      <th>0</th>\n",
       "      <th>1</th>\n",
       "      <th>2</th>\n",
       "    </tr>\n",
       "  </thead>\n",
       "  <tbody>\n",
       "    <tr>\n",
       "      <th>0</th>\n",
       "      <td>-0.014065</td>\n",
       "      <td>0.227930</td>\n",
       "      <td>-0.213865</td>\n",
       "    </tr>\n",
       "    <tr>\n",
       "      <th>1</th>\n",
       "      <td>-0.183685</td>\n",
       "      <td>0.351028</td>\n",
       "      <td>-0.167343</td>\n",
       "    </tr>\n",
       "    <tr>\n",
       "      <th>2</th>\n",
       "      <td>0.152233</td>\n",
       "      <td>0.150684</td>\n",
       "      <td>-0.302917</td>\n",
       "    </tr>\n",
       "    <tr>\n",
       "      <th>3</th>\n",
       "      <td>0.303331</td>\n",
       "      <td>0.242634</td>\n",
       "      <td>-0.545965</td>\n",
       "    </tr>\n",
       "    <tr>\n",
       "      <th>4</th>\n",
       "      <td>-0.035820</td>\n",
       "      <td>0.217467</td>\n",
       "      <td>-0.181647</td>\n",
       "    </tr>\n",
       "  </tbody>\n",
       "</table>\n",
       "</div>"
      ],
      "text/plain": [
       "          0         1         2\n",
       "0 -0.014065  0.227930 -0.213865\n",
       "1 -0.183685  0.351028 -0.167343\n",
       "2  0.152233  0.150684 -0.302917\n",
       "3  0.303331  0.242634 -0.545965\n",
       "4 -0.035820  0.217467 -0.181647"
      ]
     },
     "execution_count": 3,
     "metadata": {},
     "output_type": "execute_result"
    }
   ],
   "source": [
    "# substrating various rows by their corresponding row mean\n",
    "df.sub(df.mean(axis=1), axis=0)"
   ]
  },
  {
   "cell_type": "markdown",
   "metadata": {},
   "source": [
    "*24.** Suppose you have DataFrame with 10 columns of real numbers, for example:\n",
    "\n",
    "```python\n",
    "df = pd.DataFrame(np.random.random(size=(5, 10)), columns=list('abcdefghij'))\n",
    "```\n",
    "Which column of numbers has the smallest sum? (Find that column's label.)"
   ]
  },
  {
   "cell_type": "code",
   "execution_count": 4,
   "metadata": {},
   "outputs": [
    {
     "data": {
      "text/html": [
       "<div>\n",
       "<style scoped>\n",
       "    .dataframe tbody tr th:only-of-type {\n",
       "        vertical-align: middle;\n",
       "    }\n",
       "\n",
       "    .dataframe tbody tr th {\n",
       "        vertical-align: top;\n",
       "    }\n",
       "\n",
       "    .dataframe thead th {\n",
       "        text-align: right;\n",
       "    }\n",
       "</style>\n",
       "<table border=\"1\" class=\"dataframe\">\n",
       "  <thead>\n",
       "    <tr style=\"text-align: right;\">\n",
       "      <th></th>\n",
       "      <th>a</th>\n",
       "      <th>b</th>\n",
       "      <th>c</th>\n",
       "      <th>d</th>\n",
       "      <th>e</th>\n",
       "      <th>f</th>\n",
       "      <th>g</th>\n",
       "      <th>h</th>\n",
       "      <th>i</th>\n",
       "      <th>j</th>\n",
       "    </tr>\n",
       "  </thead>\n",
       "  <tbody>\n",
       "    <tr>\n",
       "      <th>0</th>\n",
       "      <td>0.476295</td>\n",
       "      <td>0.639655</td>\n",
       "      <td>0.987565</td>\n",
       "      <td>0.872932</td>\n",
       "      <td>0.989876</td>\n",
       "      <td>0.985891</td>\n",
       "      <td>0.333348</td>\n",
       "      <td>0.757710</td>\n",
       "      <td>0.900122</td>\n",
       "      <td>0.469045</td>\n",
       "    </tr>\n",
       "    <tr>\n",
       "      <th>1</th>\n",
       "      <td>0.889457</td>\n",
       "      <td>0.470954</td>\n",
       "      <td>0.940232</td>\n",
       "      <td>0.251936</td>\n",
       "      <td>0.796387</td>\n",
       "      <td>0.807036</td>\n",
       "      <td>0.695662</td>\n",
       "      <td>0.918587</td>\n",
       "      <td>0.177317</td>\n",
       "      <td>0.148287</td>\n",
       "    </tr>\n",
       "    <tr>\n",
       "      <th>2</th>\n",
       "      <td>0.834388</td>\n",
       "      <td>0.034938</td>\n",
       "      <td>0.166159</td>\n",
       "      <td>0.006420</td>\n",
       "      <td>0.133291</td>\n",
       "      <td>0.802503</td>\n",
       "      <td>0.244269</td>\n",
       "      <td>0.584294</td>\n",
       "      <td>0.172539</td>\n",
       "      <td>0.243435</td>\n",
       "    </tr>\n",
       "    <tr>\n",
       "      <th>3</th>\n",
       "      <td>0.453126</td>\n",
       "      <td>0.318953</td>\n",
       "      <td>0.551382</td>\n",
       "      <td>0.138341</td>\n",
       "      <td>0.570299</td>\n",
       "      <td>0.547859</td>\n",
       "      <td>0.065395</td>\n",
       "      <td>0.800911</td>\n",
       "      <td>0.090045</td>\n",
       "      <td>0.191010</td>\n",
       "    </tr>\n",
       "    <tr>\n",
       "      <th>4</th>\n",
       "      <td>0.027012</td>\n",
       "      <td>0.127480</td>\n",
       "      <td>0.716482</td>\n",
       "      <td>0.465911</td>\n",
       "      <td>0.557196</td>\n",
       "      <td>0.143110</td>\n",
       "      <td>0.735950</td>\n",
       "      <td>0.069422</td>\n",
       "      <td>0.297314</td>\n",
       "      <td>0.313208</td>\n",
       "    </tr>\n",
       "  </tbody>\n",
       "</table>\n",
       "</div>"
      ],
      "text/plain": [
       "          a         b         c         d         e         f         g  \\\n",
       "0  0.476295  0.639655  0.987565  0.872932  0.989876  0.985891  0.333348   \n",
       "1  0.889457  0.470954  0.940232  0.251936  0.796387  0.807036  0.695662   \n",
       "2  0.834388  0.034938  0.166159  0.006420  0.133291  0.802503  0.244269   \n",
       "3  0.453126  0.318953  0.551382  0.138341  0.570299  0.547859  0.065395   \n",
       "4  0.027012  0.127480  0.716482  0.465911  0.557196  0.143110  0.735950   \n",
       "\n",
       "          h         i         j  \n",
       "0  0.757710  0.900122  0.469045  \n",
       "1  0.918587  0.177317  0.148287  \n",
       "2  0.584294  0.172539  0.243435  \n",
       "3  0.800911  0.090045  0.191010  \n",
       "4  0.069422  0.297314  0.313208  "
      ]
     },
     "execution_count": 4,
     "metadata": {},
     "output_type": "execute_result"
    }
   ],
   "source": [
    "# setting up the date frame for question 24\n",
    "df1 = pd.DataFrame(np.random.random(size=(5, 10)), columns=list('abcdefghij'))\n",
    "df1"
   ]
  },
  {
   "cell_type": "code",
   "execution_count": 10,
   "metadata": {},
   "outputs": [
    {
     "data": {
      "text/plain": [
       "'j'"
      ]
     },
     "execution_count": 10,
     "metadata": {},
     "output_type": "execute_result"
    }
   ],
   "source": [
    "#finding the sum for the various columns \n",
    "df2=df1.sum(axis=0)\n",
    "# finding the index for the smallest value of the sum of the columns\n",
    "df3=df2.idxmin()\n",
    "\n",
    "df3\n"
   ]
  }
 ],
 "metadata": {
  "interpreter": {
   "hash": "fb15f73705734d02038e575d13b67fd909c696727d4489b806d46e5f3d9b63cf"
  },
  "kernelspec": {
   "display_name": "Python 3.9.7 ('base')",
   "language": "python",
   "name": "python3"
  },
  "language_info": {
   "codemirror_mode": {
    "name": "ipython",
    "version": 3
   },
   "file_extension": ".py",
   "mimetype": "text/x-python",
   "name": "python",
   "nbconvert_exporter": "python",
   "pygments_lexer": "ipython3",
   "version": "3.9.7"
  },
  "orig_nbformat": 4
 },
 "nbformat": 4,
 "nbformat_minor": 2
}
