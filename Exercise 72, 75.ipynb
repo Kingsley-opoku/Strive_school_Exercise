{
 "cells": [
  {
   "cell_type": "markdown",
   "id": "46aec79f",
   "metadata": {},
   "source": [
    "How to swap two rows of an array? (★★★)"
   ]
  },
  {
   "cell_type": "code",
   "execution_count": 3,
   "id": "4713099d",
   "metadata": {},
   "outputs": [
    {
     "name": "stdout",
     "output_type": "stream",
     "text": [
      "[[4 3 1]\n",
      " [5 7 0]\n",
      " [9 9 3]\n",
      " [8 2 4]]\n"
     ]
    }
   ],
   "source": [
    "# importing library\n",
    "import numpy as np\n",
    "\n",
    "# defining an array of numbers\n",
    "a = np.array([[4,3, 1],[5 ,7, 0],[9, 9, 3],[8, 2, 4]]) \n",
    "print(a)"
   ]
  },
  {
   "cell_type": "code",
   "execution_count": 4,
   "id": "6a13ec9c",
   "metadata": {},
   "outputs": [
    {
     "name": "stdout",
     "output_type": "stream",
     "text": [
      "[[9 9 3]\n",
      " [5 7 0]\n",
      " [4 3 1]\n",
      " [8 2 4]]\n"
     ]
    }
   ],
   "source": [
    "# Swapping row 1 with row 3\n",
    "a[[0, 2]] = a[[2, 0]]\n",
    "print(a)"
   ]
  },
  {
   "cell_type": "markdown",
   "id": "319d4856",
   "metadata": {},
   "source": [
    "75. How to compute averages using a sliding window over an array? (★★★)"
   ]
  },
  {
   "cell_type": "code",
   "execution_count": 7,
   "id": "aeb980c0",
   "metadata": {},
   "outputs": [
    {
     "name": "stdout",
     "output_type": "stream",
     "text": [
      "[ 2.  3.  4.  5.  6.  7.  8.  9. 10. 11. 12. 13. 14. 15. 16. 17.]\n"
     ]
    }
   ],
   "source": [
    "def averages(a, n) :\n",
    "    test = np.cumsum(a, dtype=float)\n",
    "    test[n:] = test[n:] - test[:-n]\n",
    "    return test[n - 1:] / n\n",
    "\n",
    "x= np.arange(20)\n",
    "b=averages(x,5)\n",
    "print(b)"
   ]
  },
  {
   "cell_type": "code",
   "execution_count": null,
   "id": "dfbd20ae",
   "metadata": {},
   "outputs": [],
   "source": []
  }
 ],
 "metadata": {
  "kernelspec": {
   "display_name": "Python 3 (ipykernel)",
   "language": "python",
   "name": "python3"
  },
  "language_info": {
   "codemirror_mode": {
    "name": "ipython",
    "version": 3
   },
   "file_extension": ".py",
   "mimetype": "text/x-python",
   "name": "python",
   "nbconvert_exporter": "python",
   "pygments_lexer": "ipython3",
   "version": "3.9.7"
  }
 },
 "nbformat": 4,
 "nbformat_minor": 5
}
