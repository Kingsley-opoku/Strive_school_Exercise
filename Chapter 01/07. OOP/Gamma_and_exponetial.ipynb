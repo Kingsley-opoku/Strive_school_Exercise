{
 "cells": [
  {
   "cell_type": "markdown",
   "metadata": {},
   "source": [
    "# Gamma distribution \n",
    "\n",
    "$$f(x, \\alpha, \\beta)= \\left\\{\\begin{array}{c}\n",
    "\\frac{1}{\\beta^{\\alpha} \\Gamma{(\\alpha)}} x^{\\alpha-1} e^{-x / \\beta} & \\quad x>0 \\\\\n",
    "0 & \\text { otherwise }\n",
    "\\end{array}\\right.$$"
   ]
  },
  {
   "cell_type": "code",
   "execution_count": 113,
   "metadata": {},
   "outputs": [],
   "source": [
    "import math\n",
    "import numpy as np\n",
    "import matplotlib.pyplot as plt\n",
    "\n",
    "class Gammma():\n",
    "\n",
    "    def __init__(self, beta, alpha): \n",
    "    \n",
    "        self.alpha=alpha\n",
    "        self.beta= beta\n",
    "        self.data=None\n",
    "    \n",
    "   \n",
    "\n",
    "    \n",
    "    def read_data_file(self, file_name, sample=True):\n",
    "        \"\"\"Method to read in data from a txt file. The txt file should have\n",
    "        one number (float) per line. The numbers are stored in the data attribute. \n",
    "        After reading in the file, the mean and standard deviation are calculated\n",
    "                \n",
    "        Args:\n",
    "            file_name (string): name of a file to read from\n",
    "        \n",
    "        Returns:\n",
    "            None\n",
    "        \n",
    "        \"\"\"\n",
    "        \n",
    "        \n",
    "        with open (file_name, 'r') as data:\n",
    "            data_list=data.readlines()\n",
    "        data_list=[int(element) for element in data_list]   \n",
    "        self.data=data_list  \n",
    "    \n",
    "\n",
    "        # self.data= data_list\n",
    "        # mean= self.calculate_mean()\n",
    "        # stdev= self.calculate_stdev()\n",
    "    \n",
    "    def pdf(self, x):\n",
    "\n",
    "        \"\"\"Probability density function calculator for the gamma distribution.\n",
    "        parameter:\n",
    "                 alpha and beta \n",
    "        \n",
    "        Args:\n",
    "            x (float): point for calculating the probability density function\n",
    "            \n",
    "        \n",
    "        Returns:\n",
    "            float: probability density function output\n",
    "        \"\"\"\n",
    "        if x>0:\n",
    "            pdf_gamma= (1/self.beta*math.gamma(self.alpha))*(x**(self.alpha-1))*math.exp(-x/self.beta)\n",
    "            return pdf_gamma\n",
    "        else:\n",
    "            return 0\n",
    "\n",
    "    def graph_pdf (self, x):\n",
    "        min_range = min(self.data)\n",
    "        max_range = max(self.data)\n",
    "        \n",
    "         # calculates the interval between x values\n",
    "        interval = 1.0 * (max_range - min_range) / 500\n",
    "\n",
    "        x = []\n",
    "        y = []\n",
    "        \n",
    "        # calculate the x values to visualize\n",
    "        for i in range(500):\n",
    "            tmp = min_range + interval*i\n",
    "            x.append(tmp)\n",
    "            y.append(self.pdf(tmp))\n",
    "\n",
    "        \n",
    "        \n",
    "\n",
    "        #add lines for each distribution\n",
    "        plt.plot(x, y, label= f'shape={self.alpha}, \\n scale={self.beta}')\n",
    "        \n",
    "\n",
    "        #add legend\n",
    "        plt.legend()\n",
    "\n",
    "        #display plot\n",
    "        plt.show()\n",
    "        \n",
    "\n",
    "\n"
   ]
  },
  {
   "cell_type": "markdown",
   "metadata": {},
   "source": [
    "# Exponential Distribution\n",
    " \n",
    " Is a special kind of of the gamma distribution where $\\alpha =1$ i.e Gamma $\\left(1, \\beta \\right)$ is the exact pdf of an exponential distribution with the expectation as $\\lambda=\\frac{1}{\\beta}$\n",
    "\n",
    " the probability density function is give as:\n",
    "\n",
    " $$f(x)=\\left\\{\\begin{array}{ll}\n",
    "\\frac{1}{\\beta} e^{-x / \\beta} & x>0 \\\\\n",
    "0 & \\text { otherwise }\n",
    "\\end{array}\\right.$$"
   ]
  },
  {
   "cell_type": "code",
   "execution_count": 114,
   "metadata": {},
   "outputs": [],
   "source": [
    "class Exponential (Gammma):\n",
    "\n",
    "    def __init__(self, beta, alpha=1):\n",
    "        super().__init__(beta, alpha)\n",
    "        self.__data=alpha\n",
    "\n",
    "\n",
    "    "
   ]
  },
  {
   "cell_type": "code",
   "execution_count": 115,
   "metadata": {},
   "outputs": [],
   "source": [
    "gamma_distr=Gammma(beta=10, alpha=8)\n",
    "\n",
    "gamma_distr.read_data_file('numbers.txt')"
   ]
  },
  {
   "cell_type": "code",
   "execution_count": 116,
   "metadata": {},
   "outputs": [
    {
     "data": {
      "text/plain": [
       "[1, 3, 99, 100, 120, 32, 330, 23, 76, 44, 31]"
      ]
     },
     "execution_count": 116,
     "metadata": {},
     "output_type": "execute_result"
    }
   ],
   "source": [
    "gamma_distr.data"
   ]
  },
  {
   "cell_type": "code",
   "execution_count": 117,
   "metadata": {},
   "outputs": [
    {
     "data": {
      "text/plain": [
       "456.0380586901236"
      ]
     },
     "execution_count": 117,
     "metadata": {},
     "output_type": "execute_result"
    }
   ],
   "source": [
    "gamma_distr.pdf(1)"
   ]
  },
  {
   "cell_type": "code",
   "execution_count": 118,
   "metadata": {},
   "outputs": [
    {
     "data": {
      "image/png": "[encoded data removed]",
      "text/plain": [
       "<Figure size 432x288 with 1 Axes>"
      ]
     },
     "metadata": {
      "needs_background": "light"
     },
     "output_type": "display_data"
    }
   ],
   "source": [
    "gamma_distr.graph_pdf(0)"
   ]
  },
  {
   "cell_type": "code",
   "execution_count": 120,
   "metadata": {},
   "outputs": [],
   "source": [
    "exponential_distr=Exponential(beta=5)"
   ]
  },
  {
   "cell_type": "code",
   "execution_count": 121,
   "metadata": {},
   "outputs": [],
   "source": [
    "exponential_distr.read_data_file('numbers.txt')"
   ]
  },
  {
   "cell_type": "code",
   "execution_count": 122,
   "metadata": {},
   "outputs": [
    {
     "data": {
      "text/plain": [
       "[1, 3, 99, 100, 120, 32, 330, 23, 76, 44, 31]"
      ]
     },
     "execution_count": 122,
     "metadata": {},
     "output_type": "execute_result"
    }
   ],
   "source": [
    "exponential_distr.data"
   ]
  },
  {
   "cell_type": "code",
   "execution_count": 123,
   "metadata": {},
   "outputs": [
    {
     "data": {
      "text/plain": [
       "0.1637461506155964"
      ]
     },
     "execution_count": 123,
     "metadata": {},
     "output_type": "execute_result"
    }
   ],
   "source": [
    "exponential_distr.pdf(1)"
   ]
  },
  {
   "cell_type": "code",
   "execution_count": 124,
   "metadata": {},
   "outputs": [
    {
     "data": {
      "image/png": "[encoded data removed]",
      "text/plain": [
       "<Figure size 432x288 with 1 Axes>"
      ]
     },
     "metadata": {
      "needs_background": "light"
     },
     "output_type": "display_data"
    }
   ],
   "source": [
    "exponential_distr.graph_pdf(0)"
   ]
  }
 ],
 "metadata": {
  "interpreter": {
   "hash": "fb15f73705734d02038e575d13b67fd909c696727d4489b806d46e5f3d9b63cf"
  },
  "kernelspec": {
   "display_name": "Python 3.9.7 ('base')",
   "language": "python",
   "name": "python3"
  },
  "language_info": {
   "codemirror_mode": {
    "name": "ipython",
    "version": 3
   },
   "file_extension": ".py",
   "mimetype": "text/x-python",
   "name": "python",
   "nbconvert_exporter": "python",
   "pygments_lexer": "ipython3",
   "version": "3.9.7"
  },
  "orig_nbformat": 4
 },
 "nbformat": 4,
 "nbformat_minor": 2
}
