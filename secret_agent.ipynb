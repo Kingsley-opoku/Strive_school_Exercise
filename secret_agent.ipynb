{
 "cells": [
  {
   "cell_type": "code",
   "execution_count": 1,
   "metadata": {},
   "outputs": [],
   "source": [
    "def secret_agent (number_people, list_pairs):\n",
    "    for x in list_pairs:\n",
    "        for i in range(x):\n",
    "            if list_pairs.index(i)==list_pairs.index(i-1):\n",
    "                print(x[i][0])\n",
    "            elif x[1][0]==x[0][1]:\n",
    "                print(0)\n",
    "            elif number_people<=0 or len(list_pairs)> number_people or len(x[i])!=2:\n",
    "                print(-1)"
   ]
  },
  {
   "cell_type": "code",
   "execution_count": null,
   "metadata": {},
   "outputs": [],
   "source": []
  }
 ],
 "metadata": {
  "interpreter": {
   "hash": "fb15f73705734d02038e575d13b67fd909c696727d4489b806d46e5f3d9b63cf"
  },
  "kernelspec": {
   "display_name": "Python 3.9.7 ('base')",
   "language": "python",
   "name": "python3"
  },
  "language_info": {
   "codemirror_mode": {
    "name": "ipython",
    "version": 3
   },
   "file_extension": ".py",
   "mimetype": "text/x-python",
   "name": "python",
   "nbconvert_exporter": "python",
   "pygments_lexer": "ipython3",
   "version": "3.9.7"
  },
  "orig_nbformat": 4
 },
 "nbformat": 4,
 "nbformat_minor": 2
}
