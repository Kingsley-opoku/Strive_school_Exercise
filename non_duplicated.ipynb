{
 "cells": [
  {
   "cell_type": "code",
   "execution_count": 1,
   "metadata": {},
   "outputs": [
    {
     "name": "stdout",
     "output_type": "stream",
     "text": [
      "[4]\n",
      "[3]\n"
     ]
    }
   ],
   "source": [
    "def non_duplicated_challenge (list_number):\n",
    "    '''\n",
    "    Non Duplicated Challenge:\n",
    " this c function that receives a list of numbers and returns the non-duplicated number:\n",
    "\n",
    "i. e non_duplicated_challenge([1, 1, 2, 2, 3, 5, 5, 6, 6]) outputs 3\n",
    "\n",
    "i. e. non_duplicated_challenge([1, 2, 2, 3, 3]) outputs 1\n",
    "'''\n",
    "    list_num=[]\n",
    "\n",
    "    for i in list_number:\n",
    "        if list_number.count(i) > 1:\n",
    "            pass\n",
    "        else:\n",
    "            list_num.append(i)\n",
    "    return list_num\n",
    "\n",
    "print(non_duplicated_challenge ([1,1,3,5,2,2,3,4,5]))\n",
    "\n",
    "print(non_duplicated_challenge([1, 1, 2, 2, 3, 5, 5, 6, 6]))"
   ]
  }
 ],
 "metadata": {
  "interpreter": {
   "hash": "fb15f73705734d02038e575d13b67fd909c696727d4489b806d46e5f3d9b63cf"
  },
  "kernelspec": {
   "display_name": "Python 3.9.7 ('base')",
   "language": "python",
   "name": "python3"
  },
  "language_info": {
   "codemirror_mode": {
    "name": "ipython",
    "version": 3
   },
   "file_extension": ".py",
   "mimetype": "text/x-python",
   "name": "python",
   "nbconvert_exporter": "python",
   "pygments_lexer": "ipython3",
   "version": "3.9.7"
  },
  "orig_nbformat": 4
 },
 "nbformat": 4,
 "nbformat_minor": 2
}
